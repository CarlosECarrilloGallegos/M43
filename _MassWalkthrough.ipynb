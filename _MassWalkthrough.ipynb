{
 "cells": [
  {
   "cell_type": "markdown",
   "id": "3ee57d58-127b-4e21-8690-ee13dbbb5064",
   "metadata": {},
   "source": [
    "# Calculating the Column Density and Mass of the M43 HII Region\n"
   ]
  },
  {
   "cell_type": "markdown",
   "id": "44024c45-edae-4a23-8c5e-e00be4dcd289",
   "metadata": {},
   "source": [
    "## 1. Import Relevant Data and Packages\n",
    "Here, we'll import important astropy and numpy packages, as well as the data files we'll need for M43--the reigon mapped in 12CO, 13CO, and C18O. We'll also import region files and two previously made excitiation temperature and maximum value maps, which will be important in calculating the column density.\n",
    "\n",
    "Lastly, we also add the pre-made integrated intensity maps (made with spectral-cube package).\n",
    "\n",
    "We reference some functions from Functions.py, which can be seen for reference in the github repository."
   ]
  },
  {
   "cell_type": "markdown",
   "id": "76eccffe-a57c-46c9-b6f5-56dc98b8fd7b",
   "metadata": {},
   "source": [
    "### Import data files and packages"
   ]
  },
  {
   "cell_type": "code",
   "execution_count": 3,
   "id": "ea7dfd38-f85f-4453-9b0b-553d54588f65",
   "metadata": {},
   "outputs": [
    {
     "name": "stderr",
     "output_type": "stream",
     "text": [
      "WARNING: VerifyWarning: Invalid 'BLANK' keyword in header.  The 'BLANK' keyword is only applicable to integer data, and will be ignored in this HDU. [astropy.io.fits.hdu.image]\n"
     ]
    }
   ],
   "source": [
    "from Functions import *\n",
    "import numpy as np\n",
    "from astropy.io import fits\n",
    "from astropy import units as u\n",
    "import math\n",
    "import matplotlib.pyplot as plt\n",
    "from spectral_cube import SpectralCube\n",
    "from astropy.wcs import WCS\n",
    "\n",
    "CO12 = load_fits('CARMA+NRO_OrionA_12CO_comgrid.fits')\n",
    "CO13 = load_fits('CARMA+NRO_OrionA_13CO_comgrid.fits')\n",
    "C18O = load_fits('CARMA+NRO_OrionA_C18O_comgrid.fits')\n"
   ]
  },
  {
   "cell_type": "markdown",
   "id": "1a0d9d5f-26a3-4cb3-a9c8-105040fef0f3",
   "metadata": {},
   "source": [
    "### Now import the maps and region files"
   ]
  },
  {
   "cell_type": "code",
   "execution_count": 4,
   "id": "452a6627-d8b0-42cc-b115-489fdd144c19",
   "metadata": {},
   "outputs": [],
   "source": [
    "#Add Other files\n",
    "Tex12 = load_fits('tex12co.fits')\n",
    "Max13CO = load_fits('13COMax.fits')\n",
    "\n",
    "#Load regions\n",
    "M43_Estimate_One = 'm43_estimate_ONEA.reg'\n",
    "region1 = pyregion.open(M43_Estimate_One)\n",
    "\n",
    "M43_Estimate_Two = 'm43_estimate_TWO.reg'\n",
    "region2 = pyregion.open(M43_Estimate_Two)\n",
    "\n",
    "M43_Estimate_Three = 'm43_estimate_THREE.reg'\n",
    "region3 = pyregion.open(M43_Estimate_Three)"
   ]
  },
  {
   "cell_type": "markdown",
   "id": "54a55fa8-e80f-430b-bbe1-2c887143ca72",
   "metadata": {},
   "source": [
    "### Add the integrated intensity maps\n"
   ]
  },
  {
   "cell_type": "code",
   "execution_count": 5,
   "id": "e21332f1-7954-4b32-abad-c25a50a36373",
   "metadata": {},
   "outputs": [],
   "source": [
    "#Load in 13CO IIm\n",
    "CO13_IIM = load_fits('IIM_13co_M43.fits')"
   ]
  },
  {
   "cell_type": "markdown",
   "id": "1af3938f-472c-45c5-be8a-ecb5ce88551f",
   "metadata": {},
   "source": [
    "## 2. 13CO\n",
    "\n",
    "We start our calculations with 13CO because the column denssity equations are most likely to work well with this tracing gas (12CO is likely too optically thick for an ideal estimate)."
   ]
  },
  {
   "cell_type": "markdown",
   "id": "9dc157e4-e2d7-4a48-b2a1-4b98e17d8b76",
   "metadata": {},
   "source": [
    "### A1. Column Density Method 1\n",
    "We use the column density method found in Kong et. al 2019. The function can be called from Functions.py but included below for convenience."
   ]
  },
  {
   "cell_type": "code",
   "execution_count": 6,
   "id": "c32a9ba3-4ed2-4968-a5ab-1848b9fcd4b5",
   "metadata": {},
   "outputs": [],
   "source": [
    "def CD_Pineda_unmasked(iim, Tex, max_map):\n",
    "    '''\n",
    "    Function returns column density map of data cube using the method in Kong et. al\n",
    "    2019 (Pineda eqn 7/9).\n",
    "    \n",
    "    NOTE: We assume Tex of 12Co can be used for Tex 13CO as well.\n",
    "    \n",
    "    !!: currently set up for 13CO data only\n",
    "    \n",
    "    Parameters\n",
    "    ---------------\n",
    "    iim: 2d array\n",
    "        Integrated intensity map of data\n",
    "    tex: 2d array\n",
    "        Excitation temperature map of data\n",
    "    max_map: 2d array\n",
    "        Map of maximum values of the data\n",
    "    \n",
    "    Returns\n",
    "    --------------\n",
    "    CD_Kong:\n",
    "        Column Density map of data \n",
    "        \n",
    "    '''\n",
    "    \n",
    "    \n",
    "    #Evaluate Taue using Pineda equation 7\n",
    "    Tau = -np.log(1- (max_map / 5.3) / (1/(np.exp(5.3/Tex) -1) -0.16))\n",
    "    \n",
    "    #Now Bourke eqn 5\n",
    "    \n",
    "    CD = ((Tau/(1 - np.exp(-Tau))) * (3*10**14) * (iim/(1-np.exp(-5.3/Tex))))\n",
    "    \n",
    "    return CD"
   ]
  },
  {
   "cell_type": "markdown",
   "id": "1f35da76-3bc5-4081-aa9f-9d0363acd5d6",
   "metadata": {},
   "source": [
    "#### Bug # 1\n",
    "Currently, the above function loses the WCS data, which is not ideal. This stems from the funciton accessing only the data component of the FITS Cube. It will be rewritten to append the WCS data again witin the function, but at the moment, we do that externally below\n"
   ]
  },
  {
   "cell_type": "markdown",
   "id": "6681c887-fd47-47fc-9c46-e1bd8b51a9f1",
   "metadata": {},
   "source": [
    "To work around the bug for the moment, we open the fits file of the cube that has already been run through the above function"
   ]
  },
  {
   "cell_type": "code",
   "execution_count": 7,
   "id": "43e25d0e-e6da-4b68-8c07-403a5946bb74",
   "metadata": {},
   "outputs": [],
   "source": [
    "CD_Pineda = fits.open('CD_Pineda.fits')\n",
    "\n",
    "CD_Pineda_w_header = add_header(CD_Pineda)"
   ]
  },
  {
   "cell_type": "markdown",
   "id": "03eb14d6-7d5e-43a3-b929-0529abe389a9",
   "metadata": {},
   "source": [
    "### A2. Column Density Method 2\n",
    "Similar to method A, but we act in the optically thin assumption (not unreasonable for 13CO). Again, function provided for convenience.\n",
    "\n",
    "Bug #1 extends to this method as well, so same workaround is used."
   ]
  },
  {
   "cell_type": "code",
   "execution_count": 8,
   "id": "636c7816-ed69-42d4-a317-1ea134b82e85",
   "metadata": {},
   "outputs": [],
   "source": [
    "def CD_Pineda_unmasked_opticthin(iim, Tex, max_map):\n",
    "    '''\n",
    "    Function returns column density map of data cube using the method in Kong et. al\n",
    "    2019 (Pineda eqn 7/9). We assume optically thin and omit the leading coefficient in Pineda\n",
    "    eqn. 9.\n",
    "    \n",
    "    NOTE: We assume Tex of 12Co can be used for Tex 13CO as well.\n",
    "    \n",
    "    !! currently set up for 13CO data only\n",
    "    \n",
    "    Parameters\n",
    "    ---------------\n",
    "    iim: 2d array\n",
    "        Integrated intensity map of data\n",
    "    tex: 2d array\n",
    "        Excitation temperature map of data\n",
    "    max_map: 2d array\n",
    "        Map of maximum values of the data\n",
    "    \n",
    "    Returns\n",
    "    --------------\n",
    "    CD_Kong:\n",
    "        Column Density map of data \n",
    "        \n",
    "    '''\n",
    "        \n",
    "    #Evaluate Taue using Pineda equation 7\n",
    "    Tau = -np.log(1- (max_map / 5.3) / (1/(np.exp(5.3/Tex) -1) -0.16))\n",
    "    \n",
    "    #Now Bourke eqn 5\n",
    "    \n",
    "    CD = (3*10**14) * (iim/(1-np.exp(-5.3/Tex)))\n",
    "    \n",
    "    return CD"
   ]
  },
  {
   "cell_type": "code",
   "execution_count": 9,
   "id": "d9f00f97-0e2a-47f4-aea7-26376cedb7f6",
   "metadata": {},
   "outputs": [],
   "source": [
    "CD_Pineda_opticthin = fits.open('CD_Pineda_opticthin.fits')\n",
    "CD_Pineda_opticthin_w_header = add_header(CD_Pineda_opticthin)"
   ]
  },
  {
   "cell_type": "markdown",
   "id": "bc7bb9c6-18b7-453a-8466-9ab81631c6b9",
   "metadata": {},
   "source": [
    "### B. Mass Estimate\n",
    "Again, equation can be imported but is included for convenience.\n"
   ]
  },
  {
   "cell_type": "code",
   "execution_count": 22,
   "id": "faaf48dc-a298-4558-a1ce-5e5f67447bf3",
   "metadata": {},
   "outputs": [],
   "source": [
    "def CO13_or_C18O_Mass1(CD, Region):\n",
    "    '''\n",
    "    13CO mass estimate using Bourke et. al eqn. A11\n",
    "    \n",
    "    Parameters\n",
    "    -------------\n",
    "    CD: 2d array\n",
    "        Column Density Map\n",
    "    Region: pyregion object\n",
    "        Ds9 Region\n",
    "        \n",
    "    Returns\n",
    "    --------------\n",
    "    Mass: float\n",
    "        kg mass of region\n",
    "    '''\n",
    "    \n",
    "    #Variables\n",
    "    \n",
    "    H_13CO_Conversion = 7e5\n",
    "    Area = 1.44*10**32 #cm^2 #Area of a pixel in the image\n",
    "    #Make distance variable ^^\n",
    "    u_m = 4.5*10**(-27) #kg\n",
    "\n",
    "    #Load in and Mask the CD of 12CO\n",
    "    region1 = Region\n",
    "\n",
    "    fdata = CD[0].data\n",
    "    f = CD\n",
    "\n",
    "    #1\n",
    "    region2 = region1.as_imagecoord(f[0].header)\n",
    "\n",
    "    mymask = region2.get_mask(hdu=f[0])\n",
    "\n",
    "    real_mask = mymask * fdata\n",
    "\n",
    "    #fits.writeto(\"13CO_CD_Masked.fits\", real_mask)\n",
    "\n",
    "    CO_13_masked = real_mask\n",
    "\n",
    "    #Compute the mass per pixel via eqn. A11\n",
    "    Mass_per_pixel = H_13CO_Conversion * Area* u_m *CO_13_masked \n",
    "\n",
    "    #Sum all the values in the 2D array, that will give the mass\n",
    "    Mass = np.sum(Mass_per_pixel)\n",
    "\n",
    "    return Mass\n"
   ]
  },
  {
   "cell_type": "markdown",
   "id": "4c4d5789-e446-487a-80e6-804cf69a8312",
   "metadata": {},
   "source": [
    "#### Bug #2\n",
    "Pixel area is hard-coded. That's fine for M43, but not fine for extending to other regions, as the area depends on the distance. "
   ]
  },
  {
   "cell_type": "markdown",
   "id": "dcccf586-ddf4-4a01-aceb-5f940500927b",
   "metadata": {},
   "source": [
    "### B1. Mass Estimates with Column Density Method 1\n",
    "We compute the mass estimates using the 3 region files from earlier and the first CD method"
   ]
  },
  {
   "cell_type": "code",
   "execution_count": 29,
   "id": "79180c3d-ac8f-4986-a36b-abcda5932404",
   "metadata": {},
   "outputs": [
    {
     "data": {
      "text/plain": [
       "'3.70e+33'"
      ]
     },
     "execution_count": 29,
     "metadata": {},
     "output_type": "execute_result"
    }
   ],
   "source": [
    "MassA1_R1 = CO13_or_C18O_Mass(CD_Pineda_w_header, region1)\n",
    "np.format_float_scientific(MassA1_R1, 2)"
   ]
  },
  {
   "cell_type": "code",
   "execution_count": 30,
   "id": "f9c753f6-8857-4100-87fe-ab8db4e7ff79",
   "metadata": {},
   "outputs": [
    {
     "data": {
      "text/plain": [
       "'6.97e+33'"
      ]
     },
     "execution_count": 30,
     "metadata": {},
     "output_type": "execute_result"
    }
   ],
   "source": [
    "MassA1_R2 = CO13_or_C18O_Mass(CD_Pineda_w_header, region2)\n",
    "np.format_float_scientific(MassA1_R2, 2)"
   ]
  },
  {
   "cell_type": "code",
   "execution_count": 32,
   "id": "5fad4aa5-cd2c-49b6-84b4-d484e28b0b58",
   "metadata": {},
   "outputs": [
    {
     "data": {
      "text/plain": [
       "'1.97e+33'"
      ]
     },
     "execution_count": 32,
     "metadata": {},
     "output_type": "execute_result"
    }
   ],
   "source": [
    "MassA1_R3 = CO13_or_C18O_Mass(CD_Pineda_w_header, region3)\n",
    "np.format_float_scientific(MassA1_R3, 2)"
   ]
  },
  {
   "cell_type": "markdown",
   "id": "463fb878-c697-47c9-b94d-57b5ea796092",
   "metadata": {},
   "source": [
    "### B2. Mass Estimates with Column Density Method 2"
   ]
  },
  {
   "cell_type": "code",
   "execution_count": 33,
   "id": "56ab1cd0-6ffd-4646-8e86-3f9b0494a746",
   "metadata": {},
   "outputs": [
    {
     "data": {
      "text/plain": [
       "'3.16e+33'"
      ]
     },
     "execution_count": 33,
     "metadata": {},
     "output_type": "execute_result"
    }
   ],
   "source": [
    "MassA2_R1 = CO13_or_C18O_Mass(CD_Pineda_opticthin_w_header, region1)\n",
    "np.format_float_scientific(MassA2_R1, 2)"
   ]
  },
  {
   "cell_type": "code",
   "execution_count": 34,
   "id": "a53acab8-6ae0-46f8-a5c0-73c2e7c641c5",
   "metadata": {},
   "outputs": [
    {
     "data": {
      "text/plain": [
       "'5.86e+33'"
      ]
     },
     "execution_count": 34,
     "metadata": {},
     "output_type": "execute_result"
    }
   ],
   "source": [
    "MassA2_R2 = CO13_or_C18O_Mass(CD_Pineda_opticthin_w_header, region2)\n",
    "np.format_float_scientific(MassA2_R2, 2)"
   ]
  },
  {
   "cell_type": "code",
   "execution_count": 35,
   "id": "6a6515c3-9cbe-4c1b-b3fe-089f3f22f191",
   "metadata": {},
   "outputs": [
    {
     "data": {
      "text/plain": [
       "'1.71e+33'"
      ]
     },
     "execution_count": 35,
     "metadata": {},
     "output_type": "execute_result"
    }
   ],
   "source": [
    "MassA2_R3 = CO13_or_C18O_Mass(CD_Pineda_opticthin_w_header, region3)\n",
    "np.format_float_scientific(MassA2_R3, 2)"
   ]
  },
  {
   "cell_type": "code",
   "execution_count": null,
   "id": "496edac2-9ced-47f0-87f5-3a02f4d2be13",
   "metadata": {},
   "outputs": [],
   "source": []
  }
 ],
 "metadata": {
  "kernelspec": {
   "display_name": "Python 3",
   "language": "python",
   "name": "python3"
  },
  "language_info": {
   "codemirror_mode": {
    "name": "ipython",
    "version": 3
   },
   "file_extension": ".py",
   "mimetype": "text/x-python",
   "name": "python",
   "nbconvert_exporter": "python",
   "pygments_lexer": "ipython3",
   "version": "3.8.11"
  }
 },
 "nbformat": 4,
 "nbformat_minor": 5
}
